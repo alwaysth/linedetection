{
 "cells": [
  {
   "cell_type": "code",
   "execution_count": 1,
   "metadata": {
    "collapsed": true,
    "deletable": true,
    "editable": true
   },
   "outputs": [],
   "source": [
    "import cv2\n",
    "import numpy as np\n",
    "import pandas as pd\n",
    "import os\n",
    "import matplotlib.image as mpimg\n",
    "import csv"
   ]
  },
  {
   "cell_type": "markdown",
   "metadata": {},
   "source": [
    "## Extract Video Frames to local folder for fast testing"
   ]
  },
  {
   "cell_type": "markdown",
   "metadata": {
    "deletable": true,
    "editable": true
   },
   "source": [
    "### Project Video\n",
    "* IMG data: ./data/IMG\n",
    "* csv: ./data/driving.csv"
   ]
  },
  {
   "cell_type": "code",
   "execution_count": 6,
   "metadata": {
    "collapsed": false,
    "deletable": true,
    "editable": true
   },
   "outputs": [
    {
     "name": "stdout",
     "output_type": "stream",
     "text": [
      "done!\n"
     ]
    }
   ],
   "source": [
    "with open('./data/driving.csv', 'w') as csvfile:\n",
    "    fieldnames = ['image_path', 'frame']\n",
    "    writer = csv.DictWriter(csvfile, fieldnames=fieldnames)\n",
    "    writer.writeheader()\n",
    "    \n",
    "    cap = cv2.VideoCapture('./project_video.mp4')\n",
    "    cap.set(cv2.CAP_PROP_FRAME_COUNT, 1250)\n",
    "    \n",
    "    for idx in range(1250):\n",
    "        cap.set(cv2.CAP_PROP_POS_FRAMES, idx)\n",
    "        \n",
    "        success, image = cap.read()\n",
    "        if success:\n",
    "            image_path = os.path.join('./data/IMG', str(idx) + '.jpg')\n",
    "#             img = cv2.cvtColor(image, cv2.COLOR_BGR2RGB)\n",
    "            cv2.imwrite(image_path, image)\n",
    "            \n",
    "            writer.writerow({'image_path': image_path, 'frame': idx})\n",
    "print('done!')"
   ]
  },
  {
   "cell_type": "markdown",
   "metadata": {
    "deletable": true,
    "editable": true
   },
   "source": [
    "### Challenge video\n",
    "* IMG data: ./data/CHALLENGE\n",
    "* csv: ./data/challenge.csv"
   ]
  },
  {
   "cell_type": "code",
   "execution_count": 7,
   "metadata": {
    "collapsed": false,
    "deletable": true,
    "editable": true
   },
   "outputs": [
    {
     "name": "stdout",
     "output_type": "stream",
     "text": [
      "done!\n"
     ]
    }
   ],
   "source": [
    "with open('./data/challenge.csv', 'w') as csvfile:\n",
    "    fieldnames = ['image_path', 'frame']\n",
    "    writer = csv.DictWriter(csvfile, fieldnames=fieldnames)\n",
    "    writer.writeheader()\n",
    "    \n",
    "    cap = cv2.VideoCapture('./challenge_video.mp4')\n",
    "    cap.set(cv2.CAP_PROP_FRAME_COUNT, 480)\n",
    "    \n",
    "    for idx in range(480):\n",
    "        cap.set(cv2.CAP_PROP_POS_FRAMES, idx)\n",
    "        \n",
    "        success, image = cap.read()\n",
    "        if success:\n",
    "            image_path = os.path.join('./data/CHALLENGE', str(idx) + '.jpg')\n",
    "#             img = cv2.cvtColor(image, cv2.COLOR_BGR2RGB)\n",
    "            cv2.imwrite(image_path, image)\n",
    "            \n",
    "            writer.writerow({'image_path': image_path, 'frame': idx})\n",
    "print('done!')"
   ]
  },
  {
   "cell_type": "code",
   "execution_count": null,
   "metadata": {
    "collapsed": true,
    "deletable": true,
    "editable": true
   },
   "outputs": [],
   "source": []
  }
 ],
 "metadata": {
  "anaconda-cloud": {},
  "kernelspec": {
   "display_name": "Python 3",
   "language": "python",
   "name": "python3"
  },
  "language_info": {
   "codemirror_mode": {
    "name": "ipython",
    "version": 3
   },
   "file_extension": ".py",
   "mimetype": "text/x-python",
   "name": "python",
   "nbconvert_exporter": "python",
   "pygments_lexer": "ipython3",
   "version": "3.5.3"
  }
 },
 "nbformat": 4,
 "nbformat_minor": 1
}
